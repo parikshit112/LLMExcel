{
 "cells": [
  {
   "cell_type": "code",
   "execution_count": 8,
   "metadata": {},
   "outputs": [],
   "source": [
    "import sys\n",
    "sys.path.append(\"..\")\n",
    "from sqlalchemy import create_engine,text\n",
    "from dotenv import load_dotenv\n",
    "import os\n",
    "from utility.utils import get_response\n",
    "load_dotenv()\n",
    "engine = create_engine(os.getenv(\"DATABASE_URL\"),pool_pre_ping=True)\n",
    "table_name = \"sample_table2\"\n",
    "path = \"data/big_sample.xlsx\"\n",
    "# upload_excel_to_psql(path = path,table_name=table_name,engine=engine)"
   ]
  },
  {
   "cell_type": "code",
   "execution_count": 3,
   "metadata": {},
   "outputs": [
    {
     "name": "stdout",
     "output_type": "stream",
     "text": [
      "The count of entries grouped by unique discount bands is as follows:\n",
      "- Low: 160 entries\n",
      "- None: 53 entries\n",
      "- High: 245 entries\n",
      "- Medium: 242 entries\n"
     ]
    }
   ],
   "source": [
    "print(get_response(\"Can you tell me the count of entries grouped by unique discount bands?\",engine = engine,table_name = table_name))"
   ]
  },
  {
   "cell_type": "code",
   "execution_count": 4,
   "metadata": {},
   "outputs": [
    {
     "name": "stdout",
     "output_type": "stream",
     "text": [
      "I couldn't find any entries where the sale price minus manufacturing price is greater than 20 and the segment is Channel Partner.\n"
     ]
    }
   ],
   "source": [
    "print(get_response(\"Can you list all entries where sale price - manufacturing price is greater than 20 and the segment is Channel Partner\",engine = engine,table_name = table_name))"
   ]
  },
  {
   "cell_type": "code",
   "execution_count": 16,
   "metadata": {},
   "outputs": [
    {
     "name": "stdout",
     "output_type": "stream",
     "text": [
      "The unique countries and segments from the table are:\n",
      "1. Country: Mexico, Segment: Small Business\n",
      "2. Country: Mexico, Segment: Midmarket\n",
      "3. Country: Canada, Segment: Small Business\n",
      "4. Country: Canada, Segment: Midmarket\n",
      "5. Country: France, Segment: Government\n",
      "6. Country: United States of America, Segment: Small Business\n",
      "7. Country: United States of America, Segment: Enterprise\n",
      "8. Country: Canada, Segment: Channel Partners\n",
      "9. Country: France, Segment: Midmarket\n",
      "10. Country: France, Segment: Enterprise\n",
      "11. Country: Germany, Segment: Midmarket\n",
      "12. Country: Canada, Segment: Government\n",
      "13. Country: United States of America, Segment: Government\n",
      "14. Country: Germany, Segment: Channel Partners\n",
      "15. Country: Germany, Segment: Enterprise\n",
      "16. Country: Germany, Segment: Government\n",
      "17. Country: Mexico, Segment: Channel Partners\n",
      "18. Country: Germany, Segment: Small Business\n",
      "19. Country: Mexico, Segment: Enterprise\n",
      "20. Country: Canada, Segment: Enterprise\n",
      "21. Country: France, Segment: Small Business\n",
      "22. Country: United States of America, Segment: Channel Partners\n",
      "23. Country: Mexico, Segment: Government\n",
      "24. Country: France, Segment: Channel Partners\n",
      "25. Country: United States of America, Segment: Midmarket\n"
     ]
    }
   ],
   "source": [
    "print(get_response(\"Can you show me unique contries and segments from the table?\",engine = engine,table_name = table_name))"
   ]
  },
  {
   "cell_type": "code",
   "execution_count": 6,
   "metadata": {},
   "outputs": [
    {
     "name": "stdout",
     "output_type": "stream",
     "text": [
      "The count of entries grouped by unique segments are as follows:\n",
      "- Enterprise: 100 entries\n",
      "- Small Business: 100 entries\n",
      "- Channel Partners: 100 entries\n",
      "- Midmarket: 100 entries\n",
      "- Government: 300 entries\n"
     ]
    }
   ],
   "source": [
    "print(get_response(\"Can you tell me the count of entries grouped by unique segemnts?\",engine = engine,table_name = table_name))"
   ]
  },
  {
   "cell_type": "code",
   "execution_count": 7,
   "metadata": {},
   "outputs": [
    {
     "name": "stdout",
     "output_type": "stream",
     "text": [
      "The unique products from the table are Amarilla, Carretera, Montana, Velo, Paseo, and VTT.\n"
     ]
    }
   ],
   "source": [
    "print(get_response(\"What are the unique products from the table?\",engine = engine,table_name = table_name))"
   ]
  },
  {
   "cell_type": "code",
   "execution_count": 8,
   "metadata": {},
   "outputs": [
    {
     "name": "stdout",
     "output_type": "stream",
     "text": [
      "The average profit grouped by unique products is as follows:\n",
      "- Amarilla: $29,937.28\n",
      "- Carretera: $19,643.06\n",
      "- Montana: $22,739.30\n",
      "- Velo: $21,155.89\n",
      "- Paseo: $23,749.69\n",
      "- VTT: $27,840.44\n"
     ]
    }
   ],
   "source": [
    "print(get_response(\"What is the average profit grouped by unique products\",engine = engine,table_name = table_name))"
   ]
  },
  {
   "cell_type": "code",
   "execution_count": 9,
   "metadata": {},
   "outputs": [
    {
     "name": "stdout",
     "output_type": "stream",
     "text": [
      "The profit in 2013 was 3,878,464.51, while the profit in 2014 was 13,015,237.75. So, the profit in 2014 was significantly higher compared to 2013.\n"
     ]
    }
   ],
   "source": [
    "print(get_response(\"“Can you compare the profits of 2013 and 2014?”\",engine = engine,table_name = table_name))"
   ]
  },
  {
   "cell_type": "code",
   "execution_count": 20,
   "metadata": {},
   "outputs": [
    {
     "name": "stdout",
     "output_type": "stream",
     "text": [
      "It seems like you didn't input a question. If you have any question related to PostgreSQL queries or database operations, feel free to ask!\n",
      "\n",
      "It seems like you didn't input a question. If you have any question related to PostgreSQL queries or database operations, feel free to ask!\n",
      "Failed to execute query with given max retries. Either increase max retries or alter the query.\n",
      "False\n"
     ]
    }
   ],
   "source": [
    "print(get_response(\"Hi\",max_retries=0,engine = engine,table_name = table_name))"
   ]
  },
  {
   "cell_type": "code",
   "execution_count": 10,
   "metadata": {},
   "outputs": [
    {
     "name": "stdout",
     "output_type": "stream",
     "text": [
      "('Year', 'bigint')\n",
      "('COGS', 'double precision')\n",
      "('Profit', 'double precision')\n",
      "('Date', 'timestamp without time zone')\n",
      "('Month Number', 'bigint')\n",
      "('index', 'bigint')\n",
      "('Units Sold', 'double precision')\n",
      "('Manufacturing Price', 'bigint')\n",
      "('Sale Price', 'bigint')\n",
      "('Gross Sales', 'double precision')\n",
      "('Discounts', 'double precision')\n",
      "('Sales', 'double precision')\n",
      "('Segment', 'text')\n",
      "('Country', 'text')\n",
      "('Product', 'text')\n",
      "('Discount Band', 'text')\n",
      "('Month Name', 'text')\n",
      "\n"
     ]
    }
   ],
   "source": [
    "from utility.utils import get_table_details\n",
    "print(get_table_details(table_name=table_name,engine = engine))"
   ]
  },
  {
   "cell_type": "code",
   "execution_count": null,
   "metadata": {},
   "outputs": [],
   "source": []
  }
 ],
 "metadata": {
  "kernelspec": {
   "display_name": "env",
   "language": "python",
   "name": "python3"
  },
  "language_info": {
   "codemirror_mode": {
    "name": "ipython",
    "version": 3
   },
   "file_extension": ".py",
   "mimetype": "text/x-python",
   "name": "python",
   "nbconvert_exporter": "python",
   "pygments_lexer": "ipython3",
   "version": "3.9.12"
  }
 },
 "nbformat": 4,
 "nbformat_minor": 2
}
