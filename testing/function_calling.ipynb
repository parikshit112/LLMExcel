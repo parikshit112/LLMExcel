{
 "cells": [
  {
   "cell_type": "code",
   "execution_count": 13,
   "metadata": {},
   "outputs": [],
   "source": [
    "import sys\n",
    "sys.path.append(\"..\")\n",
    "\n",
    "from dotenv import load_dotenv\n",
    "import os\n",
    "from sqlalchemy import create_engine,text\n",
    "from dotenv import load_dotenv\n",
    "import os\n",
    "from utility.utils import get_response\n",
    "from utility.utils import num_tokens_from_string\n",
    "load_dotenv()\n",
    "engine = create_engine(os.getenv(\"DATABASE_URL\"),pool_pre_ping=True)\n",
    "table_name = \"sample_table2\"\n",
    "path = \"data/big_sample.xlsx\"\n",
    "# upload_excel_to_psql(path = path,table_name=table_name,engine=engine)\n",
    "# from tenacity import retry, wait_random_exponential, stop_after_attempt\n",
    "from openai import OpenAI\n",
    "load_dotenv()\n",
    "client = OpenAI(api_key=os.getenv(\"OPENAI_API_KEY\"))\n",
    "\n"
   ]
  },
  {
   "cell_type": "code",
   "execution_count": 12,
   "metadata": {},
   "outputs": [],
   "source": [
    "tools = [\n",
    "    {\n",
    "        \"type\": \"function\",\n",
    "        \"function\": {\n",
    "            \"name\": \"get_response_from_database\",\n",
    "            \"description\": \"Fetches results from the postgre database assistant.\",\n",
    "            \"parameters\": {\n",
    "                \"type\": \"object\",\n",
    "                \"properties\": {\n",
    "                    \"prompt\": {\n",
    "                        \"type\": \"string\",\n",
    "                        \"description\": \"The result you want from the database in natural language\",\n",
    "                    }\n",
    "                },\n",
    "                \"required\": [\"prompt\"],\n",
    "            },\n",
    "        }\n",
    "    }\n",
    "]\n",
    "\n",
    "def chat_completion_request(messages, tools=tools, tool_choice=None, model=\"gpt-3.5-turbo\"):\n",
    "    \n",
    "    response = client.chat.completions.create(\n",
    "        model=model,\n",
    "        messages=messages,\n",
    "        tools=tools,\n",
    "        tool_choice=tool_choice,\n",
    "    )\n",
    "    return response\n"
   ]
  },
  {
   "cell_type": "code",
   "execution_count": 31,
   "metadata": {},
   "outputs": [
    {
     "name": "stdout",
     "output_type": "stream",
     "text": [
      "Hi, how can I help you?\n",
      "Hi\n",
      "Hello! How can I assist you today?\n",
      "How is the weather today?\n",
      "I'm here to help with database-related queries. If you have any questions or need data from the database fields I mentioned earlier, feel free to ask!\n",
      "Can you list all the unique segments from the database?\n",
      "The unique segments in the database are:\n",
      "1. Enterprise\n",
      "2. Small Business\n",
      "3. Channel Partners\n",
      "4. Midmarket\n",
      "5. Government\n",
      "How many segments are there?\n",
      "There are a total of 5 segments in the database.\n",
      "exit\n"
     ]
    }
   ],
   "source": [
    "messages = []\n",
    "\n",
    "system_prompt = \"\"\"\n",
    "You are a helpful assistant and have access to another database assistant.\n",
    "Your job is to read the users questions and call the database assistant if needed.\n",
    "Don't make assumptions about what values to plug into functions. Ask for clarification if a user request is ambiguous.\n",
    "\n",
    "Here are the database fields present. The database assistant can only answer queries that revolve around these column names. If a user asks question outside of these fields do not call the database assistant.\n",
    "('Year', 'bigint')\n",
    "('COGS', 'double precision')\n",
    "('Profit', 'double precision')\n",
    "('Date', 'timestamp without time zone')\n",
    "('Month Number', 'bigint')\n",
    "('index', 'bigint')\n",
    "('Units Sold', 'double precision')\n",
    "('Manufacturing Price', 'bigint')\n",
    "('Sale Price', 'bigint')\n",
    "('Gross Sales', 'double precision')\n",
    "('Discounts', 'double precision')\n",
    "('Sales', 'double precision')\n",
    "('Segment', 'text')\n",
    "('Country', 'text')\n",
    "('Product', 'text')\n",
    "('Discount Band', 'text')\n",
    "('Month Name', 'text')\n",
    "\"\"\"\n",
    "import json\n",
    "import time\n",
    "messages.append({\"role\": \"system\", \"content\": system_prompt})\n",
    "print(\"Hi, how can I help you?\")\n",
    "while(True):\n",
    "    question = input()\n",
    "    print(question)\n",
    "    if(question == \"exit\"):\n",
    "        break\n",
    "    messages.append({\"role\": \"user\", \"content\": question})\n",
    "    chat_response = chat_completion_request(\n",
    "        messages, tools=tools\n",
    "    )\n",
    "    assistant_message = chat_response.choices[0].message\n",
    "    messages.append(assistant_message)\n",
    "    tool_calls = assistant_message.tool_calls\n",
    "    if(tool_calls):\n",
    "        prompt = json.loads(assistant_message.tool_calls[0].function.arguments)[\"prompt\"]\n",
    "        function_response = get_response(question = prompt,table_name=table_name,engine=engine)\n",
    "        token = num_tokens_from_string(str(function_response))\n",
    "        if(token > 8000):\n",
    "            function_response = \"The database response is larger than the token limit. Please try Giving a shorter query.\"\n",
    "        messages.append(\n",
    "                {\n",
    "                    \"tool_call_id\": tool_calls[0].id,\n",
    "                    \"role\": \"tool\",\n",
    "                    \"name\": tool_calls[0].function.name,\n",
    "                    \"content\": function_response,\n",
    "                }\n",
    "        )\n",
    "        messages.append({\n",
    "            \"role\" : \"assistant\",\n",
    "            \"content\" : function_response\n",
    "        })\n",
    "        print(function_response)\n",
    "        continue\n",
    "    print(assistant_message.content)\n",
    "    time.sleep(0.3)"
   ]
  },
  {
   "cell_type": "code",
   "execution_count": 32,
   "metadata": {},
   "outputs": [
    {
     "data": {
      "text/plain": [
       "[{'role': 'system',\n",
       "  'content': \"\\nYou are a helpful assistant and have access to another database assistant.\\nYour job is to read the users questions and call the database assistant if needed.\\nDon't make assumptions about what values to plug into functions. Ask for clarification if a user request is ambiguous.\\n\\nHere are the database fields present. The database assistant can only answer queries that revolve around these column names. If a user asks question outside of these fields do not call the database assistant.\\n('Year', 'bigint')\\n('COGS', 'double precision')\\n('Profit', 'double precision')\\n('Date', 'timestamp without time zone')\\n('Month Number', 'bigint')\\n('index', 'bigint')\\n('Units Sold', 'double precision')\\n('Manufacturing Price', 'bigint')\\n('Sale Price', 'bigint')\\n('Gross Sales', 'double precision')\\n('Discounts', 'double precision')\\n('Sales', 'double precision')\\n('Segment', 'text')\\n('Country', 'text')\\n('Product', 'text')\\n('Discount Band', 'text')\\n('Month Name', 'text')\\n\"},\n",
       " {'role': 'user', 'content': 'Hi'},\n",
       " ChatCompletionMessage(content='Hello! How can I assist you today?', role='assistant', function_call=None, tool_calls=None),\n",
       " {'role': 'user', 'content': 'How is the weather today?'},\n",
       " ChatCompletionMessage(content=\"I'm here to help with database-related queries. If you have any questions or need data from the database fields I mentioned earlier, feel free to ask!\", role='assistant', function_call=None, tool_calls=None),\n",
       " {'role': 'user',\n",
       "  'content': 'Can you list all the unique segments from the database?'},\n",
       " ChatCompletionMessage(content=None, role='assistant', function_call=None, tool_calls=[ChatCompletionMessageToolCall(id='call_wKSTsukZyTJgfYuoARmadkuD', function=Function(arguments='{\"prompt\":\"List all unique segments in the database.\"}', name='get_response_from_database'), type='function')]),\n",
       " {'tool_call_id': 'call_wKSTsukZyTJgfYuoARmadkuD',\n",
       "  'role': 'tool',\n",
       "  'name': 'get_response_from_database',\n",
       "  'content': 'The unique segments in the database are:\\n1. Enterprise\\n2. Small Business\\n3. Channel Partners\\n4. Midmarket\\n5. Government'},\n",
       " {'role': 'assistant',\n",
       "  'content': 'The unique segments in the database are:\\n1. Enterprise\\n2. Small Business\\n3. Channel Partners\\n4. Midmarket\\n5. Government'},\n",
       " {'role': 'user', 'content': 'How many segments are there?'},\n",
       " ChatCompletionMessage(content='There are a total of 5 segments in the database.', role='assistant', function_call=None, tool_calls=None)]"
      ]
     },
     "execution_count": 32,
     "metadata": {},
     "output_type": "execute_result"
    }
   ],
   "source": [
    "messages"
   ]
  },
  {
   "cell_type": "code",
   "execution_count": 14,
   "metadata": {},
   "outputs": [],
   "source": [
    "a = chat_completion_request(messages=[{\"role\" : \"user\" , \"content\" : \"Hi\"}])"
   ]
  },
  {
   "cell_type": "code",
   "execution_count": 16,
   "metadata": {},
   "outputs": [
    {
     "data": {
      "text/plain": [
       "openai.types.chat.chat_completion.ChatCompletion"
      ]
     },
     "execution_count": 16,
     "metadata": {},
     "output_type": "execute_result"
    }
   ],
   "source": [
    "type(a)"
   ]
  },
  {
   "cell_type": "code",
   "execution_count": null,
   "metadata": {},
   "outputs": [],
   "source": []
  }
 ],
 "metadata": {
  "kernelspec": {
   "display_name": "env",
   "language": "python",
   "name": "python3"
  },
  "language_info": {
   "codemirror_mode": {
    "name": "ipython",
    "version": 3
   },
   "file_extension": ".py",
   "mimetype": "text/x-python",
   "name": "python",
   "nbconvert_exporter": "python",
   "pygments_lexer": "ipython3",
   "version": "3.9.12"
  }
 },
 "nbformat": 4,
 "nbformat_minor": 2
}
