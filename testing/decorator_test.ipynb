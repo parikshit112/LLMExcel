{
 "cells": [
  {
   "cell_type": "code",
   "execution_count": 27,
   "metadata": {},
   "outputs": [
    {
     "name": "stdout",
     "output_type": "stream",
     "text": [
      "1\n",
      "Total time taken in :  inner2 1.0023016929626465\n"
     ]
    }
   ],
   "source": [
    "import time\n",
    "import math\n",
    " \n",
    "\n",
    "def calculate_time(func):\n",
    "    def inner1(*args, **kwargs):\n",
    "        begin = time.time()\n",
    "        func(*args, **kwargs)\n",
    "        end = time.time()\n",
    "        print(\"Total time taken in : \", func.__name__, end - begin)\n",
    "    return inner1\n",
    "\n",
    "def retry(wait: int = 1):\n",
    "    def retry_inner(func):\n",
    "        def inner2(*args, **kwargs):\n",
    "            try:\n",
    "                time.sleep(wait)\n",
    "                func(*args,**kwargs)\n",
    "            except:\n",
    "                time.sleep(wait)\n",
    "                func(*args,**kwargs)\n",
    "        return inner2\n",
    "    return retry_inner\n",
    " \n",
    "@calculate_time\n",
    "@retry()\n",
    "def factorial(num):\n",
    "    print(math.factorial(num))\n",
    " \n",
    "# calling the function.\n",
    "factorial(0)"
   ]
  },
  {
   "cell_type": "code",
   "execution_count": 25,
   "metadata": {},
   "outputs": [
    {
     "ename": "ValueError",
     "evalue": "factorial() not defined for negative values",
     "output_type": "error",
     "traceback": [
      "\u001b[1;31m---------------------------------------------------------------------------\u001b[0m",
      "\u001b[1;31mValueError\u001b[0m                                Traceback (most recent call last)",
      "Cell \u001b[1;32mIn[25], line 1\u001b[0m\n\u001b[1;32m----> 1\u001b[0m \u001b[43mmath\u001b[49m\u001b[38;5;241;43m.\u001b[39;49m\u001b[43mfactorial\u001b[49m\u001b[43m(\u001b[49m\u001b[38;5;241;43m-\u001b[39;49m\u001b[38;5;241;43m1\u001b[39;49m\u001b[43m)\u001b[49m\n",
      "\u001b[1;31mValueError\u001b[0m: factorial() not defined for negative values"
     ]
    }
   ],
   "source": [
    "math.factorial(-1)"
   ]
  },
  {
   "cell_type": "code",
   "execution_count": 6,
   "metadata": {},
   "outputs": [
    {
     "name": "stdout",
     "output_type": "stream",
     "text": [
      "I like Geeksforgeeks\n",
      "Summation of values - 27\n",
      "Geeks\n",
      "for\n",
      "Geeks\n"
     ]
    }
   ],
   "source": [
    "def decorator_func(x, y):\n",
    " \n",
    "    def Inner(func):\n",
    " \n",
    "        def wrapper(*args, **kwargs):\n",
    "            print(\"I like Geeksforgeeks\")\n",
    "            print(\"Summation of values - {}\".format(x+y) )\n",
    " \n",
    "            func(*args, **kwargs)\n",
    "             \n",
    "        return wrapper\n",
    "    return Inner\n",
    " \n",
    " \n",
    "# Not using decorator \n",
    "def my_fun(*args):\n",
    "    for ele in args:\n",
    "        print(ele)\n",
    " \n",
    "# another way of using decorators\n",
    "decorator_func(12, 15)(my_fun)('Geeks', 'for', 'Geeks')"
   ]
  },
  {
   "cell_type": "code",
   "execution_count": 1,
   "metadata": {},
   "outputs": [],
   "source": [
    "import sys\n",
    "sys.path.append(\"..\")\n",
    "from utility.utils import calculate_time,get_response_together"
   ]
  },
  {
   "cell_type": "code",
   "execution_count": 6,
   "metadata": {},
   "outputs": [
    {
     "name": "stdout",
     "output_type": "stream",
     "text": [
      " New Delhi\n",
      "None\n",
      "Total time taken in :  response 0.5404448509216309\n",
      " New Delhi\n",
      "None\n",
      "Total time taken in :  response 0.7284553050994873\n"
     ]
    }
   ],
   "source": [
    "@calculate_time\n",
    "def response():\n",
    "    output = get_response_together(prompt = \"Question: What is the capital of India?\\nAI:\")\n",
    "    print(output)\n",
    "    \n",
    "for i in range(2):\n",
    "    response()\n"
   ]
  },
  {
   "cell_type": "code",
   "execution_count": null,
   "metadata": {},
   "outputs": [],
   "source": []
  }
 ],
 "metadata": {
  "kernelspec": {
   "display_name": "env",
   "language": "python",
   "name": "python3"
  },
  "language_info": {
   "codemirror_mode": {
    "name": "ipython",
    "version": 3
   },
   "file_extension": ".py",
   "mimetype": "text/x-python",
   "name": "python",
   "nbconvert_exporter": "python",
   "pygments_lexer": "ipython3",
   "version": "3.9.12"
  }
 },
 "nbformat": 4,
 "nbformat_minor": 2
}
